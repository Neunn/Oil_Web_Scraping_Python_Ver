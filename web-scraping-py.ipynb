{
 "cells": [
  {
   "cell_type": "code",
   "execution_count": 1,
   "id": "ddcb08db",
   "metadata": {
    "_kg_hide-input": true,
    "execution": {
     "iopub.execute_input": "2022-05-30T12:46:40.551771Z",
     "iopub.status.busy": "2022-05-30T12:46:40.551307Z",
     "iopub.status.idle": "2022-05-30T12:46:52.793182Z",
     "shell.execute_reply": "2022-05-30T12:46:52.791822Z"
    },
    "papermill": {
     "duration": 12.250831,
     "end_time": "2022-05-30T12:46:52.795524",
     "exception": false,
     "start_time": "2022-05-30T12:46:40.544693",
     "status": "completed"
    },
    "tags": []
   },
   "outputs": [
    {
     "name": "stdout",
     "output_type": "stream",
     "text": [
      "Collecting openpyxl\r\n",
      "  Downloading openpyxl-3.0.10-py2.py3-none-any.whl (242 kB)\r\n",
      "\u001b[2K     \u001b[90m━━━━━━━━━━━━━━━━━━━━━━━━━━━━━━━━━━━━━\u001b[0m \u001b[32m242.1/242.1 kB\u001b[0m \u001b[31m901.3 kB/s\u001b[0m eta \u001b[36m0:00:00\u001b[0m\r\n",
      "\u001b[?25hCollecting et-xmlfile\r\n",
      "  Downloading et_xmlfile-1.1.0-py3-none-any.whl (4.7 kB)\r\n",
      "Installing collected packages: et-xmlfile, openpyxl\r\n",
      "Successfully installed et-xmlfile-1.1.0 openpyxl-3.0.10\r\n",
      "\u001b[33mWARNING: Running pip as the 'root' user can result in broken permissions and conflicting behaviour with the system package manager. It is recommended to use a virtual environment instead: https://pip.pypa.io/warnings/venv\u001b[0m\u001b[33m\r\n",
      "\u001b[0mNote: you may need to restart the kernel to use updated packages.\n"
     ]
    }
   ],
   "source": [
    "pip install openpyxl"
   ]
  },
  {
   "cell_type": "code",
   "execution_count": 2,
   "id": "5c8d5111",
   "metadata": {
    "_cell_guid": "b1076dfc-b9ad-4769-8c92-a6c4dae69d19",
    "_uuid": "8f2839f25d086af736a60e9eeb907d3b93b6e0e5",
    "execution": {
     "iopub.execute_input": "2022-05-30T12:46:52.806364Z",
     "iopub.status.busy": "2022-05-30T12:46:52.805939Z",
     "iopub.status.idle": "2022-05-30T12:46:52.993887Z",
     "shell.execute_reply": "2022-05-30T12:46:52.992991Z"
    },
    "papermill": {
     "duration": 0.195507,
     "end_time": "2022-05-30T12:46:52.996248",
     "exception": false,
     "start_time": "2022-05-30T12:46:52.800741",
     "status": "completed"
    },
    "tags": []
   },
   "outputs": [],
   "source": [
    "import pandas as pd\n",
    "import numpy as np\n",
    "import webbrowser\n",
    "from bs4 import BeautifulSoup\n",
    "from urllib.request import urlopen\n",
    "from datetime import datetime"
   ]
  },
  {
   "cell_type": "code",
   "execution_count": 3,
   "id": "88aeb35b",
   "metadata": {
    "execution": {
     "iopub.execute_input": "2022-05-30T12:46:53.005798Z",
     "iopub.status.busy": "2022-05-30T12:46:53.005431Z",
     "iopub.status.idle": "2022-05-30T12:46:53.946462Z",
     "shell.execute_reply": "2022-05-30T12:46:53.945487Z"
    },
    "papermill": {
     "duration": 0.948699,
     "end_time": "2022-05-30T12:46:53.948963",
     "exception": false,
     "start_time": "2022-05-30T12:46:53.000264",
     "status": "completed"
    },
    "tags": []
   },
   "outputs": [],
   "source": [
    "webopen = urlopen(\"https://www.shell.co.th/th_th/motorists/shell-fuels/fuel-price/app-fuel-prices.html\")\n",
    "html_page = webopen.read()\n",
    "webopen.close()"
   ]
  },
  {
   "cell_type": "code",
   "execution_count": 4,
   "id": "bd7b4c7c",
   "metadata": {
    "execution": {
     "iopub.execute_input": "2022-05-30T12:46:53.958593Z",
     "iopub.status.busy": "2022-05-30T12:46:53.957901Z",
     "iopub.status.idle": "2022-05-30T12:46:54.365726Z",
     "shell.execute_reply": "2022-05-30T12:46:54.364866Z"
    },
    "papermill": {
     "duration": 0.415043,
     "end_time": "2022-05-30T12:46:54.368010",
     "exception": false,
     "start_time": "2022-05-30T12:46:53.952967",
     "status": "completed"
    },
    "tags": []
   },
   "outputs": [],
   "source": [
    "data = BeautifulSoup(html_page, \"html.parser\")"
   ]
  },
  {
   "cell_type": "code",
   "execution_count": 5,
   "id": "a9312af5",
   "metadata": {
    "execution": {
     "iopub.execute_input": "2022-05-30T12:46:54.377249Z",
     "iopub.status.busy": "2022-05-30T12:46:54.376749Z",
     "iopub.status.idle": "2022-05-30T12:46:54.405990Z",
     "shell.execute_reply": "2022-05-30T12:46:54.405035Z"
    },
    "papermill": {
     "duration": 0.036036,
     "end_time": "2022-05-30T12:46:54.407934",
     "exception": false,
     "start_time": "2022-05-30T12:46:54.371898",
     "status": "completed"
    },
    "tags": []
   },
   "outputs": [],
   "source": [
    "row_name =  data.find_all('td',{'data-h-title':'ผลิตภัณฑ์'})"
   ]
  },
  {
   "cell_type": "code",
   "execution_count": 6,
   "id": "f8094ba2",
   "metadata": {
    "execution": {
     "iopub.execute_input": "2022-05-30T12:46:54.417464Z",
     "iopub.status.busy": "2022-05-30T12:46:54.416777Z",
     "iopub.status.idle": "2022-05-30T12:46:54.444982Z",
     "shell.execute_reply": "2022-05-30T12:46:54.444122Z"
    },
    "papermill": {
     "duration": 0.034845,
     "end_time": "2022-05-30T12:46:54.446835",
     "exception": false,
     "start_time": "2022-05-30T12:46:54.411990",
     "status": "completed"
    },
    "tags": []
   },
   "outputs": [],
   "source": [
    "price = data.find_all('td',{'data-h-title':'บาท/ลิตร'})"
   ]
  },
  {
   "cell_type": "code",
   "execution_count": 7,
   "id": "4c87c3a5",
   "metadata": {
    "execution": {
     "iopub.execute_input": "2022-05-30T12:46:54.456406Z",
     "iopub.status.busy": "2022-05-30T12:46:54.456059Z",
     "iopub.status.idle": "2022-05-30T12:46:54.462024Z",
     "shell.execute_reply": "2022-05-30T12:46:54.461015Z"
    },
    "papermill": {
     "duration": 0.013298,
     "end_time": "2022-05-30T12:46:54.464081",
     "exception": false,
     "start_time": "2022-05-30T12:46:54.450783",
     "status": "completed"
    },
    "tags": []
   },
   "outputs": [],
   "source": [
    "row_name_li = []\n",
    "for i in row_name:\n",
    "    row_name_li.append(i.text)"
   ]
  },
  {
   "cell_type": "code",
   "execution_count": 8,
   "id": "c83bd6f2",
   "metadata": {
    "execution": {
     "iopub.execute_input": "2022-05-30T12:46:54.473612Z",
     "iopub.status.busy": "2022-05-30T12:46:54.473081Z",
     "iopub.status.idle": "2022-05-30T12:46:54.477349Z",
     "shell.execute_reply": "2022-05-30T12:46:54.476654Z"
    },
    "papermill": {
     "duration": 0.011048,
     "end_time": "2022-05-30T12:46:54.479073",
     "exception": false,
     "start_time": "2022-05-30T12:46:54.468025",
     "status": "completed"
    },
    "tags": []
   },
   "outputs": [],
   "source": [
    "price_li = []\n",
    "for i in price:\n",
    "    price_li.append(i.text)"
   ]
  },
  {
   "cell_type": "code",
   "execution_count": 9,
   "id": "9a7297dd",
   "metadata": {
    "execution": {
     "iopub.execute_input": "2022-05-30T12:46:54.488513Z",
     "iopub.status.busy": "2022-05-30T12:46:54.487909Z",
     "iopub.status.idle": "2022-05-30T12:46:54.491473Z",
     "shell.execute_reply": "2022-05-30T12:46:54.490888Z"
    },
    "papermill": {
     "duration": 0.010315,
     "end_time": "2022-05-30T12:46:54.493225",
     "exception": false,
     "start_time": "2022-05-30T12:46:54.482910",
     "status": "completed"
    },
    "tags": []
   },
   "outputs": [],
   "source": [
    "df = {\"ผลิตภัณฑ์\" : row_name_li, \"บาท/ลิตร\" : price_li}"
   ]
  },
  {
   "cell_type": "code",
   "execution_count": 10,
   "id": "af658182",
   "metadata": {
    "execution": {
     "iopub.execute_input": "2022-05-30T12:46:54.502524Z",
     "iopub.status.busy": "2022-05-30T12:46:54.501920Z",
     "iopub.status.idle": "2022-05-30T12:46:54.509377Z",
     "shell.execute_reply": "2022-05-30T12:46:54.508755Z"
    },
    "papermill": {
     "duration": 0.014186,
     "end_time": "2022-05-30T12:46:54.511263",
     "exception": false,
     "start_time": "2022-05-30T12:46:54.497077",
     "status": "completed"
    },
    "tags": []
   },
   "outputs": [],
   "source": [
    "c_df = pd.DataFrame(df)"
   ]
  },
  {
   "cell_type": "code",
   "execution_count": 11,
   "id": "cd9eae06",
   "metadata": {
    "execution": {
     "iopub.execute_input": "2022-05-30T12:46:54.521070Z",
     "iopub.status.busy": "2022-05-30T12:46:54.520343Z",
     "iopub.status.idle": "2022-05-30T12:46:54.585665Z",
     "shell.execute_reply": "2022-05-30T12:46:54.584682Z"
    },
    "papermill": {
     "duration": 0.072826,
     "end_time": "2022-05-30T12:46:54.588087",
     "exception": false,
     "start_time": "2022-05-30T12:46:54.515261",
     "status": "completed"
    },
    "tags": []
   },
   "outputs": [
    {
     "data": {
      "text/html": [
       "<style type=\"text/css\">\n",
       "</style>\n",
       "<table id=\"T_d3e5f_\">\n",
       "  <thead>\n",
       "    <tr>\n",
       "      <th class=\"col_heading level0 col0\" >ผลิตภัณฑ์</th>\n",
       "      <th class=\"col_heading level0 col1\" >บาท/ลิตร</th>\n",
       "    </tr>\n",
       "  </thead>\n",
       "  <tbody>\n",
       "    <tr>\n",
       "      <td id=\"T_d3e5f_row0_col0\" class=\"data row0 col0\" >เชลล์ ฟิวเซฟ แก๊สโซฮอล์ E20:</td>\n",
       "      <td id=\"T_d3e5f_row0_col1\" class=\"data row0 col1\" >42.74</td>\n",
       "    </tr>\n",
       "    <tr>\n",
       "      <td id=\"T_d3e5f_row1_col0\" class=\"data row1 col0\" >เชลล์ ฟิวเซฟ แก๊สโซฮอล์ 91:</td>\n",
       "      <td id=\"T_d3e5f_row1_col1\" class=\"data row1 col1\" >43.58 </td>\n",
       "    </tr>\n",
       "    <tr>\n",
       "      <td id=\"T_d3e5f_row2_col0\" class=\"data row2 col0\" >เชลล์ ฟิวเซฟ แก๊สโซฮอล์ 95:</td>\n",
       "      <td id=\"T_d3e5f_row2_col1\" class=\"data row2 col1\" >43.85 </td>\n",
       "    </tr>\n",
       "    <tr>\n",
       "      <td id=\"T_d3e5f_row3_col0\" class=\"data row3 col0\" >เชลล์ วี-เพาเวอร์ แก๊สโซฮอล์ 95:</td>\n",
       "      <td id=\"T_d3e5f_row3_col1\" class=\"data row3 col1\" >51.34 </td>\n",
       "    </tr>\n",
       "    <tr>\n",
       "      <td id=\"T_d3e5f_row4_col0\" class=\"data row4 col0\" >เชลล์ ดีเซล B20:</td>\n",
       "      <td id=\"T_d3e5f_row4_col1\" class=\"data row4 col1\" >31.94</td>\n",
       "    </tr>\n",
       "    <tr>\n",
       "      <td id=\"T_d3e5f_row5_col0\" class=\"data row5 col0\" >เชลล์ ฟิวเซฟ ดีเซล:</td>\n",
       "      <td id=\"T_d3e5f_row5_col1\" class=\"data row5 col1\" >31.94</td>\n",
       "    </tr>\n",
       "    <tr>\n",
       "      <td id=\"T_d3e5f_row6_col0\" class=\"data row6 col0\" >เชลล์ ฟิวเซฟ ดีเซล B7:</td>\n",
       "      <td id=\"T_d3e5f_row6_col1\" class=\"data row6 col1\" >31.94</td>\n",
       "    </tr>\n",
       "    <tr>\n",
       "      <td id=\"T_d3e5f_row7_col0\" class=\"data row7 col0\" >เชลล์ วี-เพาเวอร์ ดีเซล:</td>\n",
       "      <td id=\"T_d3e5f_row7_col1\" class=\"data row7 col1\" >31.94</td>\n",
       "    </tr>\n",
       "    <tr>\n",
       "      <td id=\"T_d3e5f_row8_col0\" class=\"data row8 col0\" >เชลล์ วี-เพาเวอร์ ดีเซล B7:</td>\n",
       "      <td id=\"T_d3e5f_row8_col1\" class=\"data row8 col1\" >47.39</td>\n",
       "    </tr>\n",
       "  </tbody>\n",
       "</table>\n"
      ],
      "text/plain": [
       "<pandas.io.formats.style.Styler at 0x7fd73f24a3d0>"
      ]
     },
     "execution_count": 11,
     "metadata": {},
     "output_type": "execute_result"
    }
   ],
   "source": [
    "c_df.style.hide_index()"
   ]
  },
  {
   "cell_type": "code",
   "execution_count": 12,
   "id": "f3fc56bd",
   "metadata": {
    "execution": {
     "iopub.execute_input": "2022-05-30T12:46:54.597771Z",
     "iopub.status.busy": "2022-05-30T12:46:54.597403Z",
     "iopub.status.idle": "2022-05-30T12:46:54.601856Z",
     "shell.execute_reply": "2022-05-30T12:46:54.601026Z"
    },
    "papermill": {
     "duration": 0.01147,
     "end_time": "2022-05-30T12:46:54.603716",
     "exception": false,
     "start_time": "2022-05-30T12:46:54.592246",
     "status": "completed"
    },
    "tags": []
   },
   "outputs": [],
   "source": [
    "def savefile(data):\n",
    "    date_today = datetime.now().strftime(\"%Y-%m-%d\")\n",
    "    data.to_excel(f\"ราคาน้ำมันวันที่ {date_today}.xlsx\", index = False, encoding = \"utf-8\")"
   ]
  },
  {
   "cell_type": "code",
   "execution_count": 13,
   "id": "64af56bc",
   "metadata": {
    "execution": {
     "iopub.execute_input": "2022-05-30T12:46:54.613775Z",
     "iopub.status.busy": "2022-05-30T12:46:54.613189Z",
     "iopub.status.idle": "2022-05-30T12:46:54.754193Z",
     "shell.execute_reply": "2022-05-30T12:46:54.753327Z"
    },
    "papermill": {
     "duration": 0.148687,
     "end_time": "2022-05-30T12:46:54.756578",
     "exception": false,
     "start_time": "2022-05-30T12:46:54.607891",
     "status": "completed"
    },
    "tags": []
   },
   "outputs": [],
   "source": [
    "savefile(c_df)"
   ]
  }
 ],
 "metadata": {
  "kernelspec": {
   "display_name": "Python 3",
   "language": "python",
   "name": "python3"
  },
  "language_info": {
   "codemirror_mode": {
    "name": "ipython",
    "version": 3
   },
   "file_extension": ".py",
   "mimetype": "text/x-python",
   "name": "python",
   "nbconvert_exporter": "python",
   "pygments_lexer": "ipython3",
   "version": "3.7.12"
  },
  "papermill": {
   "default_parameters": {},
   "duration": 23.886718,
   "end_time": "2022-05-30T12:46:55.482719",
   "environment_variables": {},
   "exception": null,
   "input_path": "__notebook__.ipynb",
   "output_path": "__notebook__.ipynb",
   "parameters": {},
   "start_time": "2022-05-30T12:46:31.596001",
   "version": "2.3.4"
  }
 },
 "nbformat": 4,
 "nbformat_minor": 5
}
