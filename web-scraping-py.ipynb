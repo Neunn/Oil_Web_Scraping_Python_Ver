{
 "cells": [
  {
   "cell_type": "code",
   "execution_count": 1,
   "id": "bcadbe76",
   "metadata": {
    "_kg_hide-input": true,
    "_kg_hide-output": true,
    "execution": {
     "iopub.execute_input": "2022-05-30T12:53:53.624347Z",
     "iopub.status.busy": "2022-05-30T12:53:53.623675Z",
     "iopub.status.idle": "2022-05-30T12:54:09.143695Z",
     "shell.execute_reply": "2022-05-30T12:54:09.142249Z"
    },
    "papermill": {
     "duration": 15.531068,
     "end_time": "2022-05-30T12:54:09.146492",
     "exception": false,
     "start_time": "2022-05-30T12:53:53.615424",
     "status": "completed"
    },
    "tags": []
   },
   "outputs": [
    {
     "name": "stdout",
     "output_type": "stream",
     "text": [
      "Collecting openpyxl\r\n",
      "  Downloading openpyxl-3.0.10-py2.py3-none-any.whl (242 kB)\r\n",
      "\u001b[2K     \u001b[90m━━━━━━━━━━━━━━━━━━━━━━━━━━━━━━━━━━━━━\u001b[0m \u001b[32m242.1/242.1 kB\u001b[0m \u001b[31m461.6 kB/s\u001b[0m eta \u001b[36m0:00:00\u001b[0m\r\n",
      "\u001b[?25hCollecting et-xmlfile\r\n",
      "  Downloading et_xmlfile-1.1.0-py3-none-any.whl (4.7 kB)\r\n",
      "Installing collected packages: et-xmlfile, openpyxl\r\n",
      "Successfully installed et-xmlfile-1.1.0 openpyxl-3.0.10\r\n",
      "\u001b[33mWARNING: Running pip as the 'root' user can result in broken permissions and conflicting behaviour with the system package manager. It is recommended to use a virtual environment instead: https://pip.pypa.io/warnings/venv\u001b[0m\u001b[33m\r\n",
      "\u001b[0mNote: you may need to restart the kernel to use updated packages.\n"
     ]
    }
   ],
   "source": [
    "pip install openpyxl"
   ]
  },
  {
   "cell_type": "code",
   "execution_count": 2,
   "id": "d643387e",
   "metadata": {
    "_cell_guid": "b1076dfc-b9ad-4769-8c92-a6c4dae69d19",
    "_uuid": "8f2839f25d086af736a60e9eeb907d3b93b6e0e5",
    "execution": {
     "iopub.execute_input": "2022-05-30T12:54:09.160492Z",
     "iopub.status.busy": "2022-05-30T12:54:09.159895Z",
     "iopub.status.idle": "2022-05-30T12:54:09.394021Z",
     "shell.execute_reply": "2022-05-30T12:54:09.392909Z"
    },
    "papermill": {
     "duration": 0.244001,
     "end_time": "2022-05-30T12:54:09.396660",
     "exception": false,
     "start_time": "2022-05-30T12:54:09.152659",
     "status": "completed"
    },
    "tags": []
   },
   "outputs": [],
   "source": [
    "import pandas as pd\n",
    "import numpy as np\n",
    "import webbrowser\n",
    "from bs4 import BeautifulSoup\n",
    "from urllib.request import urlopen\n",
    "from datetime import datetime"
   ]
  },
  {
   "cell_type": "code",
   "execution_count": 3,
   "id": "7a838f17",
   "metadata": {
    "execution": {
     "iopub.execute_input": "2022-05-30T12:54:09.410398Z",
     "iopub.status.busy": "2022-05-30T12:54:09.409967Z",
     "iopub.status.idle": "2022-05-30T12:54:11.263912Z",
     "shell.execute_reply": "2022-05-30T12:54:11.262936Z"
    },
    "papermill": {
     "duration": 1.863701,
     "end_time": "2022-05-30T12:54:11.266247",
     "exception": false,
     "start_time": "2022-05-30T12:54:09.402546",
     "status": "completed"
    },
    "tags": []
   },
   "outputs": [],
   "source": [
    "webopen = urlopen(\"https://www.shell.co.th/th_th/motorists/shell-fuels/fuel-price/app-fuel-prices.html\")\n",
    "html_page = webopen.read()\n",
    "webopen.close()"
   ]
  },
  {
   "cell_type": "code",
   "execution_count": 4,
   "id": "d8b80eae",
   "metadata": {
    "execution": {
     "iopub.execute_input": "2022-05-30T12:54:11.279666Z",
     "iopub.status.busy": "2022-05-30T12:54:11.279006Z",
     "iopub.status.idle": "2022-05-30T12:54:11.771950Z",
     "shell.execute_reply": "2022-05-30T12:54:11.770841Z"
    },
    "papermill": {
     "duration": 0.50244,
     "end_time": "2022-05-30T12:54:11.774396",
     "exception": false,
     "start_time": "2022-05-30T12:54:11.271956",
     "status": "completed"
    },
    "tags": []
   },
   "outputs": [],
   "source": [
    "data = BeautifulSoup(html_page, \"html.parser\")"
   ]
  },
  {
   "cell_type": "code",
   "execution_count": 5,
   "id": "556320f5",
   "metadata": {
    "execution": {
     "iopub.execute_input": "2022-05-30T12:54:11.787735Z",
     "iopub.status.busy": "2022-05-30T12:54:11.787190Z",
     "iopub.status.idle": "2022-05-30T12:54:11.829557Z",
     "shell.execute_reply": "2022-05-30T12:54:11.828329Z"
    },
    "papermill": {
     "duration": 0.051709,
     "end_time": "2022-05-30T12:54:11.831917",
     "exception": false,
     "start_time": "2022-05-30T12:54:11.780208",
     "status": "completed"
    },
    "tags": []
   },
   "outputs": [],
   "source": [
    "row_name =  data.find_all('td',{'data-h-title':'ผลิตภัณฑ์'})"
   ]
  },
  {
   "cell_type": "code",
   "execution_count": 6,
   "id": "0df6ba1e",
   "metadata": {
    "execution": {
     "iopub.execute_input": "2022-05-30T12:54:11.845215Z",
     "iopub.status.busy": "2022-05-30T12:54:11.844809Z",
     "iopub.status.idle": "2022-05-30T12:54:11.888601Z",
     "shell.execute_reply": "2022-05-30T12:54:11.887553Z"
    },
    "papermill": {
     "duration": 0.053305,
     "end_time": "2022-05-30T12:54:11.891001",
     "exception": false,
     "start_time": "2022-05-30T12:54:11.837696",
     "status": "completed"
    },
    "tags": []
   },
   "outputs": [],
   "source": [
    "price = data.find_all('td',{'data-h-title':'บาท/ลิตร'})"
   ]
  },
  {
   "cell_type": "code",
   "execution_count": 7,
   "id": "643b7162",
   "metadata": {
    "execution": {
     "iopub.execute_input": "2022-05-30T12:54:11.904603Z",
     "iopub.status.busy": "2022-05-30T12:54:11.904113Z",
     "iopub.status.idle": "2022-05-30T12:54:11.908548Z",
     "shell.execute_reply": "2022-05-30T12:54:11.907648Z"
    },
    "papermill": {
     "duration": 0.014026,
     "end_time": "2022-05-30T12:54:11.910870",
     "exception": false,
     "start_time": "2022-05-30T12:54:11.896844",
     "status": "completed"
    },
    "tags": []
   },
   "outputs": [],
   "source": [
    "row_name_li = []\n",
    "for i in row_name:\n",
    "    row_name_li.append(i.text)"
   ]
  },
  {
   "cell_type": "code",
   "execution_count": 8,
   "id": "4ffbd0d2",
   "metadata": {
    "execution": {
     "iopub.execute_input": "2022-05-30T12:54:11.923940Z",
     "iopub.status.busy": "2022-05-30T12:54:11.923555Z",
     "iopub.status.idle": "2022-05-30T12:54:11.928435Z",
     "shell.execute_reply": "2022-05-30T12:54:11.927462Z"
    },
    "papermill": {
     "duration": 0.014114,
     "end_time": "2022-05-30T12:54:11.930734",
     "exception": false,
     "start_time": "2022-05-30T12:54:11.916620",
     "status": "completed"
    },
    "tags": []
   },
   "outputs": [],
   "source": [
    "price_li = []\n",
    "for i in price:\n",
    "    price_li.append(i.text)"
   ]
  },
  {
   "cell_type": "code",
   "execution_count": 9,
   "id": "dea11622",
   "metadata": {
    "execution": {
     "iopub.execute_input": "2022-05-30T12:54:11.944307Z",
     "iopub.status.busy": "2022-05-30T12:54:11.943654Z",
     "iopub.status.idle": "2022-05-30T12:54:11.947645Z",
     "shell.execute_reply": "2022-05-30T12:54:11.946911Z"
    },
    "papermill": {
     "duration": 0.013215,
     "end_time": "2022-05-30T12:54:11.949730",
     "exception": false,
     "start_time": "2022-05-30T12:54:11.936515",
     "status": "completed"
    },
    "tags": []
   },
   "outputs": [],
   "source": [
    "df = {\"ผลิตภัณฑ์\" : row_name_li, \"บาท/ลิตร\" : price_li}"
   ]
  },
  {
   "cell_type": "code",
   "execution_count": 10,
   "id": "50421864",
   "metadata": {
    "execution": {
     "iopub.execute_input": "2022-05-30T12:54:11.963697Z",
     "iopub.status.busy": "2022-05-30T12:54:11.963058Z",
     "iopub.status.idle": "2022-05-30T12:54:11.971770Z",
     "shell.execute_reply": "2022-05-30T12:54:11.970678Z"
    },
    "papermill": {
     "duration": 0.018366,
     "end_time": "2022-05-30T12:54:11.974192",
     "exception": false,
     "start_time": "2022-05-30T12:54:11.955826",
     "status": "completed"
    },
    "tags": []
   },
   "outputs": [],
   "source": [
    "c_df = pd.DataFrame(df)"
   ]
  },
  {
   "cell_type": "code",
   "execution_count": 11,
   "id": "709db9b9",
   "metadata": {
    "execution": {
     "iopub.execute_input": "2022-05-30T12:54:11.988159Z",
     "iopub.status.busy": "2022-05-30T12:54:11.987746Z",
     "iopub.status.idle": "2022-05-30T12:54:12.072590Z",
     "shell.execute_reply": "2022-05-30T12:54:12.071169Z"
    },
    "papermill": {
     "duration": 0.095008,
     "end_time": "2022-05-30T12:54:12.075181",
     "exception": false,
     "start_time": "2022-05-30T12:54:11.980173",
     "status": "completed"
    },
    "tags": []
   },
   "outputs": [
    {
     "data": {
      "text/html": [
       "<style type=\"text/css\">\n",
       "</style>\n",
       "<table id=\"T_e42c2_\">\n",
       "  <thead>\n",
       "    <tr>\n",
       "      <th class=\"col_heading level0 col0\" >ผลิตภัณฑ์</th>\n",
       "      <th class=\"col_heading level0 col1\" >บาท/ลิตร</th>\n",
       "    </tr>\n",
       "  </thead>\n",
       "  <tbody>\n",
       "    <tr>\n",
       "      <td id=\"T_e42c2_row0_col0\" class=\"data row0 col0\" >เชลล์ ฟิวเซฟ แก๊สโซฮอล์ E20:</td>\n",
       "      <td id=\"T_e42c2_row0_col1\" class=\"data row0 col1\" >42.74</td>\n",
       "    </tr>\n",
       "    <tr>\n",
       "      <td id=\"T_e42c2_row1_col0\" class=\"data row1 col0\" >เชลล์ ฟิวเซฟ แก๊สโซฮอล์ 91:</td>\n",
       "      <td id=\"T_e42c2_row1_col1\" class=\"data row1 col1\" >43.58 </td>\n",
       "    </tr>\n",
       "    <tr>\n",
       "      <td id=\"T_e42c2_row2_col0\" class=\"data row2 col0\" >เชลล์ ฟิวเซฟ แก๊สโซฮอล์ 95:</td>\n",
       "      <td id=\"T_e42c2_row2_col1\" class=\"data row2 col1\" >43.85 </td>\n",
       "    </tr>\n",
       "    <tr>\n",
       "      <td id=\"T_e42c2_row3_col0\" class=\"data row3 col0\" >เชลล์ วี-เพาเวอร์ แก๊สโซฮอล์ 95:</td>\n",
       "      <td id=\"T_e42c2_row3_col1\" class=\"data row3 col1\" >51.34 </td>\n",
       "    </tr>\n",
       "    <tr>\n",
       "      <td id=\"T_e42c2_row4_col0\" class=\"data row4 col0\" >เชลล์ ดีเซล B20:</td>\n",
       "      <td id=\"T_e42c2_row4_col1\" class=\"data row4 col1\" >31.94</td>\n",
       "    </tr>\n",
       "    <tr>\n",
       "      <td id=\"T_e42c2_row5_col0\" class=\"data row5 col0\" >เชลล์ ฟิวเซฟ ดีเซล:</td>\n",
       "      <td id=\"T_e42c2_row5_col1\" class=\"data row5 col1\" >31.94</td>\n",
       "    </tr>\n",
       "    <tr>\n",
       "      <td id=\"T_e42c2_row6_col0\" class=\"data row6 col0\" >เชลล์ ฟิวเซฟ ดีเซล B7:</td>\n",
       "      <td id=\"T_e42c2_row6_col1\" class=\"data row6 col1\" >31.94</td>\n",
       "    </tr>\n",
       "    <tr>\n",
       "      <td id=\"T_e42c2_row7_col0\" class=\"data row7 col0\" >เชลล์ วี-เพาเวอร์ ดีเซล:</td>\n",
       "      <td id=\"T_e42c2_row7_col1\" class=\"data row7 col1\" >31.94</td>\n",
       "    </tr>\n",
       "    <tr>\n",
       "      <td id=\"T_e42c2_row8_col0\" class=\"data row8 col0\" >เชลล์ วี-เพาเวอร์ ดีเซล B7:</td>\n",
       "      <td id=\"T_e42c2_row8_col1\" class=\"data row8 col1\" >47.39</td>\n",
       "    </tr>\n",
       "  </tbody>\n",
       "</table>\n"
      ],
      "text/plain": [
       "<pandas.io.formats.style.Styler at 0x7f1bf92df790>"
      ]
     },
     "execution_count": 11,
     "metadata": {},
     "output_type": "execute_result"
    }
   ],
   "source": [
    "c_df.style.hide_index()"
   ]
  },
  {
   "cell_type": "code",
   "execution_count": 12,
   "id": "099c3f11",
   "metadata": {
    "execution": {
     "iopub.execute_input": "2022-05-30T12:54:12.089649Z",
     "iopub.status.busy": "2022-05-30T12:54:12.088881Z",
     "iopub.status.idle": "2022-05-30T12:54:12.094712Z",
     "shell.execute_reply": "2022-05-30T12:54:12.093776Z"
    },
    "papermill": {
     "duration": 0.015332,
     "end_time": "2022-05-30T12:54:12.096570",
     "exception": false,
     "start_time": "2022-05-30T12:54:12.081238",
     "status": "completed"
    },
    "tags": []
   },
   "outputs": [],
   "source": [
    "def savefile(data):\n",
    "    date_today = datetime.now().strftime(\"%Y-%m-%d\")\n",
    "    data.to_excel(f\"ราคาน้ำมันวันที่ {date_today}.xlsx\", index = False, encoding = \"utf-8\")"
   ]
  },
  {
   "cell_type": "code",
   "execution_count": 13,
   "id": "acebdd75",
   "metadata": {
    "execution": {
     "iopub.execute_input": "2022-05-30T12:54:12.110553Z",
     "iopub.status.busy": "2022-05-30T12:54:12.109922Z",
     "iopub.status.idle": "2022-05-30T12:54:12.283306Z",
     "shell.execute_reply": "2022-05-30T12:54:12.282524Z"
    },
    "papermill": {
     "duration": 0.182963,
     "end_time": "2022-05-30T12:54:12.285631",
     "exception": false,
     "start_time": "2022-05-30T12:54:12.102668",
     "status": "completed"
    },
    "tags": []
   },
   "outputs": [],
   "source": [
    "savefile(c_df)"
   ]
  }
 ],
 "metadata": {
  "kernelspec": {
   "display_name": "Python 3",
   "language": "python",
   "name": "python3"
  },
  "language_info": {
   "codemirror_mode": {
    "name": "ipython",
    "version": 3
   },
   "file_extension": ".py",
   "mimetype": "text/x-python",
   "name": "python",
   "nbconvert_exporter": "python",
   "pygments_lexer": "ipython3",
   "version": "3.7.12"
  },
  "papermill": {
   "default_parameters": {},
   "duration": 30.18824,
   "end_time": "2022-05-30T12:54:13.013140",
   "environment_variables": {},
   "exception": null,
   "input_path": "__notebook__.ipynb",
   "output_path": "__notebook__.ipynb",
   "parameters": {},
   "start_time": "2022-05-30T12:53:42.824900",
   "version": "2.3.4"
  }
 },
 "nbformat": 4,
 "nbformat_minor": 5
}
